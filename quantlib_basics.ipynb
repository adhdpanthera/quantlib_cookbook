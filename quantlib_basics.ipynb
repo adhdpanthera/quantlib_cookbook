{
 "cells": [
  {
   "cell_type": "markdown",
   "metadata": {},
   "source": [
    "# 1. Quantlib Basics"
   ]
  },
  {
   "cell_type": "code",
   "execution_count": 14,
   "metadata": {},
   "outputs": [],
   "source": [
    "from QuantLib import *"
   ]
  },
  {
   "cell_type": "code",
   "execution_count": 2,
   "metadata": {},
   "outputs": [
    {
     "name": "stdout",
     "output_type": "stream",
     "text": [
      "March 31st, 2015\n"
     ]
    }
   ],
   "source": [
    "date = Date(31, 3, 2015)\n",
    "print(date)"
   ]
  },
  {
   "cell_type": "code",
   "execution_count": 4,
   "metadata": {},
   "outputs": [
    {
     "name": "stdout",
     "output_type": "stream",
     "text": [
      "3-31-2015\n"
     ]
    }
   ],
   "source": [
    "print (\"%d-%d-%d\" %(date.month(), date.dayOfMonth(), date.year()))"
   ]
  },
  {
   "cell_type": "code",
   "execution_count": 5,
   "metadata": {},
   "outputs": [
    {
     "data": {
      "text/plain": [
       "True"
      ]
     },
     "execution_count": 5,
     "metadata": {},
     "output_type": "execute_result"
    }
   ],
   "source": [
    " date.weekday() == Tuesday"
   ]
  },
  {
   "cell_type": "markdown",
   "metadata": {},
   "source": [
    "Математические операции с датами"
   ]
  },
  {
   "cell_type": "code",
   "execution_count": 3,
   "metadata": {},
   "outputs": [
    {
     "name": "stdout",
     "output_type": "stream",
     "text": [
      "Add a day :  April 1st, 2015\n",
      "Subtract a day :  March 30th, 2015\n",
      "Add a week :  April 7th, 2015\n",
      "Add a month :  April 30th, 2015\n",
      "Add a year :  March 31st, 2016\n"
     ]
    }
   ],
   "source": [
    "print (\"Add a day : \", date + 1)\n",
    "print (\"Subtract a day : \", date - 1)\n",
    "print (\"Add a week : \", date + Period(1, Weeks))\n",
    "print (\"Add a month : \", date + Period(1, Months))\n",
    "print (\"Add a year : \", date + Period(1, Years))"
   ]
  },
  {
   "cell_type": "markdown",
   "metadata": {},
   "source": [
    "Сравнение дат"
   ]
  },
  {
   "cell_type": "code",
   "execution_count": 4,
   "metadata": {},
   "outputs": [
    {
     "name": "stdout",
     "output_type": "stream",
     "text": [
      "True\n",
      "True\n",
      "True\n",
      "True\n"
     ]
    }
   ],
   "source": [
    "print (date == Date(31, 3, 2015))\n",
    "print (date > Date(30, 3, 2015))\n",
    "print (date < Date(1, 4, 2015))\n",
    "print (date != Date(1, 4, 2015))\n"
   ]
  },
  {
   "cell_type": "markdown",
   "metadata": {},
   "source": [
    "Использование календаря (берет в расчет праздники в зависимости от страны)"
   ]
  },
  {
   "cell_type": "code",
   "execution_count": 15,
   "metadata": {},
   "outputs": [
    {
     "name": "stdout",
     "output_type": "stream",
     "text": [
      "Add 60 days: May 30th, 2015\n",
      "Add 60 business days in US: June 24th, 2015\n",
      "Add 60 business days in Italy: June 26th, 2015\n"
     ]
    }
   ],
   "source": [
    "date = Date(31, 3, 2015)\n",
    "us_calendar = UnitedStates()\n",
    "italy_calendar = Italy()\n",
    "\n",
    "period = Period(60, Days)\n",
    "raw_date = date + period\n",
    "us_date = us_calendar.advance(date, period)\n",
    "italy_date = italy_calendar.advance(date, period)\n",
    "\n",
    "print (\"Add 60 days:\", raw_date)\n",
    "print (\"Add 60 business days in US:\", us_date)\n",
    "print (\"Add 60 business days in Italy:\", italy_date)\n"
   ]
  },
  {
   "cell_type": "code",
   "execution_count": 6,
   "metadata": {},
   "outputs": [
    {
     "name": "stdout",
     "output_type": "stream",
     "text": [
      "Business days US: 60\n",
      "Business days Italy: 60\n"
     ]
    }
   ],
   "source": [
    "us_busdays = us_calendar.businessDaysBetween(date, us_date)\n",
    "italy_busdays = italy_calendar.businessDaysBetween(date, italy_date)\n",
    "\n",
    "print (\"Business days US:\", us_busdays)\n",
    "print (\"Business days Italy:\", italy_busdays)"
   ]
  },
  {
   "cell_type": "markdown",
   "metadata": {},
   "source": [
    "Совмещение календарей"
   ]
  },
  {
   "cell_type": "code",
   "execution_count": 7,
   "metadata": {},
   "outputs": [
    {
     "name": "stdout",
     "output_type": "stream",
     "text": [
      "Add 60 business days in US-Italy: June 29th, 2015\n",
      "Business days US-Italy: 60\n"
     ]
    }
   ],
   "source": [
    "joint_calendar = JointCalendar(us_calendar, italy_calendar)\n",
    "joint_date = joint_calendar.advance(date, period)\n",
    "joint_busdays = joint_calendar.businessDaysBetween(date, joint_date)\n",
    "\n",
    "print (\"Add 60 business days in US-Italy:\", joint_date)\n",
    "print (\"Business days US-Italy:\", joint_busdays)"
   ]
  },
  {
   "cell_type": "markdown",
   "metadata": {},
   "source": [
    "Расписание"
   ]
  },
  {
   "cell_type": "code",
   "execution_count": 8,
   "metadata": {},
   "outputs": [
    {
     "name": "stdout",
     "output_type": "stream",
     "text": [
      "1 January 2nd, 2015\n",
      "2 February 2nd, 2015\n",
      "3 March 2nd, 2015\n",
      "4 April 1st, 2015\n",
      "5 May 1st, 2015\n",
      "6 June 1st, 2015\n",
      "7 July 1st, 2015\n",
      "8 August 3rd, 2015\n",
      "9 September 1st, 2015\n",
      "10 October 1st, 2015\n",
      "11 November 2nd, 2015\n",
      "12 December 1st, 2015\n",
      "13 January 4th, 2016\n"
     ]
    }
   ],
   "source": [
    "effective_date = Date(1, 1, 2015)\n",
    "termination_date = Date(1, 1, 2016)\n",
    "tenor = Period(Monthly)\n",
    "calendar = UnitedStates()\n",
    "business_convention = Following\n",
    "termination_business_convention = Following\n",
    "date_generation = DateGeneration.Forward\n",
    "end_of_month = False\n",
    "\n",
    "schedule = Schedule(effective_date, termination_date, tenor, calendar, business_convention, termination_business_convention, date_generation, \n",
    "end_of_month)\n",
    "for i, d in enumerate(schedule):\n",
    "    print (i+1, d)"
   ]
  },
  {
   "cell_type": "markdown",
   "metadata": {},
   "source": [
    "The InterestRate class can be used to store the interest rate with the compounding type, day\n",
    "count and the frequency of compounding. Below we show how to create an interest rate of 5.0%\n",
    "compounded annually, using Actual/Actual day count convention"
   ]
  },
  {
   "cell_type": "code",
   "execution_count": 9,
   "metadata": {},
   "outputs": [],
   "source": [
    "annual_rate = 0.05\n",
    "day_count = ActualActual()\n",
    "compound_type = Compounded\n",
    "frequency = Annual\n",
    "\n",
    "interest_rate = InterestRate(annual_rate, day_count, compound_type, frequency)"
   ]
  },
  {
   "cell_type": "markdown",
   "metadata": {},
   "source": [
    "Lets say if you invest a dollar at the interest rate described by interest_rate, the compoundFactor\n",
    "method in the InterestRate object gives you how much your investment will be worth after any\n",
    "period. Below we show that the value returned by compound_factor for 2 years agrees with the\n",
    "expected compounding formula"
   ]
  },
  {
   "cell_type": "code",
   "execution_count": 10,
   "metadata": {},
   "outputs": [
    {
     "name": "stdout",
     "output_type": "stream",
     "text": [
      "1.1025\n",
      "1.1025\n"
     ]
    }
   ],
   "source": [
    "t = 2.0\n",
    "\n",
    "print (interest_rate.compoundFactor(t))\n",
    "print ((1+annual_rate)*(1.0+annual_rate))"
   ]
  },
  {
   "cell_type": "markdown",
   "metadata": {},
   "source": [
    "The discountFactor method returns the reciprocal of the compoundFactor method. The discount\n",
    "factor is useful while calculating the present value of future cashflows"
   ]
  },
  {
   "cell_type": "code",
   "execution_count": 11,
   "metadata": {},
   "outputs": [
    {
     "name": "stdout",
     "output_type": "stream",
     "text": [
      "0.9070294784580498\n",
      "0.9070294784580498\n"
     ]
    }
   ],
   "source": [
    "print (interest_rate.discountFactor(t))\n",
    "print (1.0/interest_rate.compoundFactor(t))"
   ]
  },
  {
   "cell_type": "markdown",
   "metadata": {},
   "source": [
    "# 2. Instruments and pricing engines"
   ]
  },
  {
   "cell_type": "code",
   "execution_count": 16,
   "metadata": {},
   "outputs": [],
   "source": [
    "today = Date(7, March, 2014)\n",
    "Settings.instance().evaluationDate = today"
   ]
  },
  {
   "cell_type": "markdown",
   "metadata": {},
   "source": [
    "As a sample instrument, we’ll take a textbook example: a European option.\n",
    "Building the option requires only the specification of its contract, so its payoff (it’s a call option\n",
    "with strike at 100) and its exercise, three months from today’s date. Market data will be selected and\n",
    "passed later, depending on the calculation methods"
   ]
  },
  {
   "cell_type": "code",
   "execution_count": 17,
   "metadata": {},
   "outputs": [],
   "source": [
    "option = EuropeanOption(PlainVanillaPayoff(Option.Call, 100.0), EuropeanExercise(Date(7, June, 2014)))"
   ]
  },
  {
   "cell_type": "markdown",
   "metadata": {},
   "source": [
    "**First pricing method: analytic Black-Scholes formula** \n",
    "https://habr.com/ru/post/552194/ SimpleQuote instances: those model numbers whose value can change and that can notify observers when this happens. The underlying value is at 100, the risk-free value at 1%,\n",
    "and the volatility at 20%."
   ]
  },
  {
   "cell_type": "code",
   "execution_count": 18,
   "metadata": {},
   "outputs": [],
   "source": [
    "u = SimpleQuote(100.0)\n",
    "r = SimpleQuote(0.01)\n",
    "sigma = SimpleQuote(0.20)"
   ]
  },
  {
   "cell_type": "markdown",
   "metadata": {},
   "source": [
    "First\n",
    "we build flat curves for the risk-free rate and the volatility"
   ]
  },
  {
   "cell_type": "code",
   "execution_count": 19,
   "metadata": {},
   "outputs": [],
   "source": [
    "riskFreeCurve = FlatForward(0, TARGET(), QuoteHandle(r), Actual360())\n",
    "volatility = BlackConstantVol(0, TARGET(), QuoteHandle(sigma), Actual360())"
   ]
  },
  {
   "cell_type": "markdown",
   "metadata": {},
   "source": [
    "…then we instantiate the process with the underlying value and the curves we just built. The inputs\n",
    "are all stored into handles, so that we could change the quotes and curves used if we wanted"
   ]
  },
  {
   "cell_type": "code",
   "execution_count": 20,
   "metadata": {},
   "outputs": [],
   "source": [
    "process = BlackScholesProcess(QuoteHandle(u), YieldTermStructureHandle(riskFreeCurve), BlackVolTermStructureHandle(volatility))"
   ]
  },
  {
   "cell_type": "markdown",
   "metadata": {},
   "source": [
    "build the engine"
   ]
  },
  {
   "cell_type": "code",
   "execution_count": 21,
   "metadata": {},
   "outputs": [],
   "source": [
    "engine = AnalyticEuropeanEngine(process)"
   ]
  },
  {
   "cell_type": "markdown",
   "metadata": {},
   "source": [
    "and once we have the engine, we can set it to the option and evaluate the latter"
   ]
  },
  {
   "cell_type": "code",
   "execution_count": 22,
   "metadata": {},
   "outputs": [
    {
     "name": "stdout",
     "output_type": "stream",
     "text": [
      "4.155543462156206\n"
     ]
    }
   ],
   "source": [
    " option.setPricingEngine(engine)\n",
    " print (option.NPV())"
   ]
  },
  {
   "cell_type": "markdown",
   "metadata": {},
   "source": [
    "**Market changes** Market data are stored in Quote instances and thus can notify the option when any\n",
    "of them changes."
   ]
  },
  {
   "cell_type": "code",
   "execution_count": 23,
   "metadata": {},
   "outputs": [
    {
     "name": "stdout",
     "output_type": "stream",
     "text": [
      "7.27556357927846\n"
     ]
    }
   ],
   "source": [
    "u.setValue(105.0)\n",
    "print (option.NPV())"
   ]
  },
  {
   "cell_type": "markdown",
   "metadata": {},
   "source": [
    "Just for showing off, we can use this to graph the option value depending on the underlying asset\n",
    "value. After a bit of graphic setup (don’t pay attention to the man behind the curtains)"
   ]
  },
  {
   "cell_type": "code",
   "execution_count": 28,
   "metadata": {},
   "outputs": [],
   "source": [
    "%%capture\n",
    "%pylab inline --no-import-all\n",
    "import matplotlib.pyplot as plot\n",
    "from matplotlib.pyplot import figure\n",
    "import numpy\n",
    "from IPython.display import display\n",
    "import utils\n",
    "# utils.set_default_plot_size()"
   ]
  },
  {
   "cell_type": "markdown",
   "metadata": {},
   "source": [
    "We can take an array of values from 80 to 120, set the underlying value to each of them, collect the\n",
    "corresponding option values, and plot the results"
   ]
  },
  {
   "cell_type": "code",
   "execution_count": 33,
   "metadata": {},
   "outputs": [
    {
     "data": {
      "text/plain": [
       "<Figure size 4000x4000 with 0 Axes>"
      ]
     },
     "metadata": {},
     "output_type": "display_data"
    },
    {
     "data": {
      "image/png": "[encoded data removed]",
      "text/plain": [
       "<Figure size 432x288 with 1 Axes>"
      ]
     },
     "metadata": {
      "needs_background": "light"
     },
     "output_type": "display_data"
    }
   ],
   "source": [
    "figure(figsize=(40, 40), dpi=100)\n",
    "f, ax = plot.subplots()\n",
    "xs = numpy.linspace(80.0, 120.0, 400)\n",
    "ys = []\n",
    "for x in xs:\n",
    "    u.setValue(x)\n",
    "    ys.append(option.NPV())\n",
    "ax.set_title('Option value')\n",
    "_ = ax.plot(xs, ys)\n"
   ]
  },
  {
   "cell_type": "markdown",
   "metadata": {},
   "source": [
    "**Date changes** Just as it does when inputs are modified, the value also changes if we advance the evaluation date"
   ]
  },
  {
   "cell_type": "markdown",
   "metadata": {},
   "source": [
    "**Other pricing methods** Heston model"
   ]
  },
  {
   "cell_type": "code",
   "execution_count": 35,
   "metadata": {},
   "outputs": [],
   "source": [
    "Settings.instance().evaluationDate = today\n",
    "u.setValue(105.0)\n",
    "r.setValue(0.01)\n",
    "sigma.setValue(0.20)"
   ]
  },
  {
   "cell_type": "code",
   "execution_count": 36,
   "metadata": {},
   "outputs": [
    {
     "name": "stdout",
     "output_type": "stream",
     "text": [
      "7.27556357927846\n"
     ]
    }
   ],
   "source": [
    "print (option.NPV())"
   ]
  },
  {
   "cell_type": "markdown",
   "metadata": {},
   "source": [
    "Let’s say that we want to use a Heston model to price the option. What we have to do is to instantiate\n",
    "the corresponding class with the desired inputs"
   ]
  },
  {
   "cell_type": "code",
   "execution_count": 37,
   "metadata": {},
   "outputs": [],
   "source": [
    "model = HestonModel(HestonProcess(YieldTermStructureHandle(riskFreeCurve), YieldTermStructureHandle(FlatForward(0, TARGET(), 0.0, Actual360())), QuoteHandle(u), 0.04, 0.1, 0.01, 0.05, -0.75))"
   ]
  },
  {
   "cell_type": "markdown",
   "metadata": {},
   "source": [
    "Pass it to the corresponding engine, and set the new engine to the option"
   ]
  },
  {
   "cell_type": "code",
   "execution_count": 38,
   "metadata": {},
   "outputs": [],
   "source": [
    "engine = AnalyticHestonEngine(model)\n",
    "option.setPricingEngine(engine)"
   ]
  },
  {
   "cell_type": "markdown",
   "metadata": {},
   "source": [
    "Asking the option for its NPV will now return the value according to the new model."
   ]
  },
  {
   "cell_type": "code",
   "execution_count": 39,
   "metadata": {},
   "outputs": [
    {
     "name": "stdout",
     "output_type": "stream",
     "text": [
      "7.295356086978643\n"
     ]
    }
   ],
   "source": [
    "print (option.NPV())"
   ]
  },
  {
   "cell_type": "markdown",
   "metadata": {},
   "source": [
    "**Monte Carlo engine**"
   ]
  },
  {
   "cell_type": "code",
   "execution_count": 40,
   "metadata": {},
   "outputs": [],
   "source": [
    "engine = MCEuropeanEngine(process, \"PseudoRandom\",\n",
    "timeSteps=20,\n",
    "requiredSamples=250000)\n",
    "option.setPricingEngine(engine)"
   ]
  },
  {
   "cell_type": "code",
   "execution_count": 42,
   "metadata": {},
   "outputs": [
    {
     "name": "stdout",
     "output_type": "stream",
     "text": [
      "7.282505515617214\n",
      "CPU times: total: 0 ns\n",
      "Wall time: 0 ns\n"
     ]
    }
   ],
   "source": [
    "%time \n",
    "print (option.NPV())"
   ]
  },
  {
   "cell_type": "markdown",
   "metadata": {},
   "source": [
    "# 3. Numerical Greeks calculation"
   ]
  },
  {
   "cell_type": "markdown",
   "metadata": {},
   "source": [
    "In this notebook, I’ll build on the facilities provided by the Instrument class (that is, its ability to\n",
    "detect changes in its inputs and recalculate accordingly) to show how to calculate numerical Greeks\n",
    "when the engine doesn’t provide them."
   ]
  },
  {
   "cell_type": "code",
   "execution_count": null,
   "metadata": {},
   "outputs": [],
   "source": [
    "today = Date(8, October, 2014)\n",
    "Settings.instance().evaluationDate = today"
   ]
  },
  {
   "cell_type": "markdown",
   "metadata": {},
   "source": [
    "As an example, we’ll use a knock-in barrier option"
   ]
  },
  {
   "cell_type": "code",
   "execution_count": 43,
   "metadata": {},
   "outputs": [],
   "source": [
    "option = BarrierOption(Barrier.UpIn,\n",
    "120.0, # barrier\n",
    "0.0, # rebate\n",
    "PlainVanillaPayoff(Option.Call, 100.0),\n",
    "EuropeanExercise(Date(8, January, 2015)))"
   ]
  },
  {
   "cell_type": "code",
   "execution_count": 44,
   "metadata": {},
   "outputs": [],
   "source": [
    "u = SimpleQuote(100.0)\n",
    "r = SimpleQuote(0.01)\n",
    "sigma = SimpleQuote(0.20)"
   ]
  },
  {
   "cell_type": "code",
   "execution_count": 45,
   "metadata": {},
   "outputs": [],
   "source": [
    "riskFreeCurve = FlatForward(0, TARGET(), QuoteHandle(r), Actual360())\n",
    "volatility = BlackConstantVol(0, TARGET(), QuoteHandle(sigma), Actual360())"
   ]
  },
  {
   "cell_type": "code",
   "execution_count": 46,
   "metadata": {},
   "outputs": [],
   "source": [
    "process = BlackScholesProcess(QuoteHandle(u),\n",
    "YieldTermStructureHandle(riskFreeCurve),\n",
    "BlackVolTermStructureHandle(volatility))"
   ]
  },
  {
   "cell_type": "markdown",
   "metadata": {},
   "source": [
    "Finally, we build the engine (the library provides one based on an analytic formula) and set it to the\n",
    "option"
   ]
  },
  {
   "cell_type": "code",
   "execution_count": 48,
   "metadata": {},
   "outputs": [],
   "source": [
    "option.setPricingEngine(AnalyticBarrierEngine(process))"
   ]
  },
  {
   "cell_type": "code",
   "execution_count": 49,
   "metadata": {},
   "outputs": [
    {
     "name": "stdout",
     "output_type": "stream",
     "text": [
      "6.4389123445265355\n"
     ]
    }
   ],
   "source": [
    "print (option.NPV())"
   ]
  },
  {
   "cell_type": "markdown",
   "metadata": {},
   "source": [
    "The engine doesn’t provide the delta, so asking for it raises an error."
   ]
  },
  {
   "cell_type": "code",
   "execution_count": null,
   "metadata": {},
   "outputs": [],
   "source": [
    "print (option.delta())"
   ]
  },
  {
   "cell_type": "markdown",
   "metadata": {},
   "source": [
    "**Numerical calculation** We can use numerical differentiation to approximate the Greeks, as\n",
    "shown in the next figure: that is, we can approximate the derivative by calculating the option value\n",
    "for two slightly different values of the underlying and by taking the slope between the resulting\n",
    "points."
   ]
  },
  {
   "cell_type": "code",
   "execution_count": 50,
   "metadata": {},
   "outputs": [
    {
     "name": "stdout",
     "output_type": "stream",
     "text": [
      "6.4389123445265355\n"
     ]
    }
   ],
   "source": [
    "u0 = u.value() ; h = 0.01\n",
    "P0 = option.NPV()\n",
    "print (P0)"
   ]
  },
  {
   "cell_type": "code",
   "execution_count": 51,
   "metadata": {},
   "outputs": [
    {
     "name": "stdout",
     "output_type": "stream",
     "text": [
      "6.444512644827632\n"
     ]
    }
   ],
   "source": [
    "u.setValue(u0+h)\n",
    "P_plus = option.NPV()\n",
    "print (P_plus)"
   ]
  },
  {
   "cell_type": "code",
   "execution_count": 52,
   "metadata": {},
   "outputs": [
    {
     "name": "stdout",
     "output_type": "stream",
     "text": [
      "6.433314926844804\n"
     ]
    }
   ],
   "source": [
    "u.setValue(u0-h)\n",
    "P_minus = option.NPV()\n",
    "print (P_minus)"
   ]
  },
  {
   "cell_type": "code",
   "execution_count": 53,
   "metadata": {},
   "outputs": [],
   "source": [
    "u.setValue(u0)"
   ]
  },
  {
   "cell_type": "code",
   "execution_count": 54,
   "metadata": {},
   "outputs": [
    {
     "name": "stdout",
     "output_type": "stream",
     "text": [
      "0.5598858991413991\n",
      "0.028826193645414833\n"
     ]
    }
   ],
   "source": [
    "Delta = (P_plus - P_minus)/(2*h)\n",
    "Gamma = (P_plus - 2*P0 + P_minus)/(h*h)\n",
    "print (Delta)\n",
    "print (Gamma)\n"
   ]
  },
  {
   "cell_type": "code",
   "execution_count": 56,
   "metadata": {},
   "outputs": [
    {
     "name": "stdout",
     "output_type": "stream",
     "text": [
      "38.45132738684143\n"
     ]
    }
   ],
   "source": [
    "r0 = r.value() ; h = 0.0001\n",
    "r.setValue(r0+h) ; P_plus = option.NPV()\n",
    "r.setValue(r0)\n",
    "Rho = (P_plus - P0)/h\n",
    "print (Rho)"
   ]
  },
  {
   "cell_type": "code",
   "execution_count": 57,
   "metadata": {},
   "outputs": [
    {
     "name": "stdout",
     "output_type": "stream",
     "text": [
      "49.538840456015976\n"
     ]
    }
   ],
   "source": [
    "sigma0 = sigma.value() ; h = 0.0001\n",
    "sigma.setValue(sigma0+h) ; P_plus = option.NPV()\n",
    "sigma.setValue(sigma0)\n",
    "Vega = (P_plus - P0)/h\n",
    "print (Vega)"
   ]
  },
  {
   "cell_type": "code",
   "execution_count": 58,
   "metadata": {},
   "outputs": [
    {
     "name": "stdout",
     "output_type": "stream",
     "text": [
      "-19.109452235594322\n"
     ]
    }
   ],
   "source": [
    "Settings.instance().evaluationDate = today+1\n",
    "P1 = option.NPV()\n",
    "h = 1.0/365\n",
    "Theta = (P1-P0)/h\n",
    "print (Theta)"
   ]
  },
  {
   "cell_type": "markdown",
   "metadata": {},
   "source": [
    "# 4. Market quotes"
   ]
  },
  {
   "cell_type": "markdown",
   "metadata": {},
   "source": [
    "In this notebook, I’ll show a pitfall to avoid when multiple quotes need to be updated"
   ]
  },
  {
   "cell_type": "code",
   "execution_count": 59,
   "metadata": {},
   "outputs": [],
   "source": [
    "today = Date(17, October, 2016)\n",
    "Settings.instance().evaluationDate = today"
   ]
  },
  {
   "cell_type": "markdown",
   "metadata": {},
   "source": [
    "I’ll create a bond curve"
   ]
  },
  {
   "cell_type": "code",
   "execution_count": 60,
   "metadata": {},
   "outputs": [],
   "source": [
    "data = [ (2, 0.02), (4, 0.0225), (6, 0.025), (8, 0.0275),\n",
    "(10, 0.03), (12, 0.0325), (14, 0.035), (16, 0.0375),\n",
    "(18, 0.04), (20, 0.0425), (22, 0.045), (24, 0.0475),\n",
    "(26, 0.05), (28, 0.0525), (30, 0.055)]"
   ]
  },
  {
   "cell_type": "markdown",
   "metadata": {},
   "source": [
    "For simplicity, I’ll use the same start date, frequency and conventions for all the bonds; this doesn’t\n",
    "affect the point I’m going to make in the rest of the notebook. I’ll also assume that all bonds currently\n",
    "price at 100. I’ll skip over the details of building the curve now; the one thing you’ll need to remember\n",
    "is that it depends on the quotes modeling the bond prices"
   ]
  },
  {
   "cell_type": "code",
   "execution_count": 61,
   "metadata": {},
   "outputs": [],
   "source": [
    "calendar = TARGET()\n",
    "settlement = calendar.advance(today, 3, Days)\n",
    "quotes = []\n",
    "helpers = []\n",
    "for length, coupon in data:\n",
    "    maturity = calendar.advance(settlement, length, Years)\n",
    "    schedule = Schedule(settlement, maturity, Period(Annual),\n",
    "                        calendar, ModifiedFollowing, ModifiedFollowing,\n",
    "                        DateGeneration.Backward, False)\n",
    "    quote = SimpleQuote(100.0)\n",
    "    quotes.append(quote)\n",
    "    helpers.append(FixedRateBondHelper(QuoteHandle(quote), 3, 100.0,\n",
    "                    schedule, [coupon], SimpleDayCounter(),\n",
    "                    ModifiedFollowing))\n",
    "curve = FittedBondDiscountCurve(0, calendar, helpers,\n",
    "SimpleDayCounter(), NelsonSiegelFitting())"
   ]
  },
  {
   "cell_type": "markdown",
   "metadata": {},
   "source": [
    "A visualization of the curve as discount factors versus time in years"
   ]
  },
  {
   "cell_type": "code",
   "execution_count": 62,
   "metadata": {},
   "outputs": [
    {
     "data": {
      "image/png": "[encoded data removed]",
      "text/plain": [
       "<Figure size 432x288 with 1 Axes>"
      ]
     },
     "metadata": {
      "needs_background": "light"
     },
     "output_type": "display_data"
    }
   ],
   "source": [
    "sample_times = numpy.linspace(0.0, 30.0, 301)\n",
    "sample_discounts = [ curve.discount(t) for t in sample_times ]\n",
    "f, ax = plot.subplots()\n",
    "ax.set_ylim(0.0, 1.0)\n",
    "_ = ax.plot(sample_times, sample_discounts)"
   ]
  },
  {
   "cell_type": "markdown",
   "metadata": {},
   "source": [
    "Also, here’s a bond priced by discounting its coupons on the curve"
   ]
  },
  {
   "cell_type": "code",
   "execution_count": 63,
   "metadata": {},
   "outputs": [
    {
     "name": "stdout",
     "output_type": "stream",
     "text": [
      "105.77449622178025\n"
     ]
    }
   ],
   "source": [
    "schedule = Schedule(today, calendar.advance(today, 15, Years),\n",
    "Period(Semiannual), calendar,\n",
    "ModifiedFollowing, ModifiedFollowing,\n",
    "DateGeneration.Backward, False)\n",
    "bond = FixedRateBond(3, 100.0, schedule, [0.04], Actual360())\n",
    "bond.setPricingEngine(DiscountingBondEngine(YieldTermStructureHandle(curve)))\n",
    "\n",
    "print (bond.cleanPrice())"
   ]
  },
  {
   "cell_type": "code",
   "execution_count": null,
   "metadata": {},
   "outputs": [],
   "source": []
  }
 ],
 "metadata": {
  "interpreter": {
   "hash": "e2069fa8660d98726444b1c3a8c46ff048e6d6948b652fe796c47d12eb80b502"
  },
  "kernelspec": {
   "display_name": "Python 3.10.2 64-bit",
   "language": "python",
   "name": "python3"
  },
  "language_info": {
   "codemirror_mode": {
    "name": "ipython",
    "version": 3
   },
   "file_extension": ".py",
   "mimetype": "text/x-python",
   "name": "python",
   "nbconvert_exporter": "python",
   "pygments_lexer": "ipython3",
   "version": "3.10.2"
  },
  "orig_nbformat": 4
 },
 "nbformat": 4,
 "nbformat_minor": 2
}
