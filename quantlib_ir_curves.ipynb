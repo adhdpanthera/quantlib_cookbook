{
 "cells": [
  {
   "cell_type": "markdown",
   "metadata": {},
   "source": [
    "# 5. Term structures and their reference dates"
   ]
  },
  {
   "cell_type": "code",
   "execution_count": 1,
   "metadata": {},
   "outputs": [],
   "source": [
    "from QuantLib import *"
   ]
  },
  {
   "cell_type": "code",
   "execution_count": 2,
   "metadata": {},
   "outputs": [],
   "source": [
    "Settings.instance().evaluationDate = Date(3, October, 2014)"
   ]
  },
  {
   "cell_type": "markdown",
   "metadata": {},
   "source": [
    "**Specifying the reference date of a term structure**"
   ]
  },
  {
   "cell_type": "markdown",
   "metadata": {},
   "source": [
    "The reference date of a term structure is where it begins. It can be the\n",
    "evaluation date, but you might also want it to start on the spot date, for instance."
   ]
  },
  {
   "cell_type": "markdown",
   "metadata": {},
   "source": [
    "The first is to define it by means of a (possibly null) offset from the current evaluation date; e.g.,\n",
    "“two business days after the evaluation date” to define it as the spot date, or “no business days” to\n",
    "define it as the evaluation date itself."
   ]
  },
  {
   "cell_type": "code",
   "execution_count": 3,
   "metadata": {},
   "outputs": [],
   "source": [
    "helpers = [ SwapRateHelper(QuoteHandle(SimpleQuote(rate/100.0)),\n",
    "Period(*tenor), TARGET(),\n",
    "Annual, Unadjusted,\n",
    "Thirty360(),\n",
    "Euribor6M())\n",
    "for tenor, rate in [((2,Years), 0.201),\n",
    "((3,Years), 0.258),\n",
    "((5,Years), 0.464),\n",
    "((10,Years), 1.151),\n",
    "((15,Years), 1.588)] ]"
   ]
  },
  {
   "cell_type": "code",
   "execution_count": 4,
   "metadata": {},
   "outputs": [],
   "source": [
    "curve1 = PiecewiseFlatForward(0, TARGET(), helpers, Actual360())"
   ]
  },
  {
   "cell_type": "markdown",
   "metadata": {},
   "source": [
    "The second possibility is to specify the reference date explicitly. For instance, the ForwardCurve\n",
    "class takes a vector of specific dates and the corresponding rates and interpolates between them; the\n",
    "first passed date is taken as the reference date of the curve."
   ]
  },
  {
   "cell_type": "code",
   "execution_count": 5,
   "metadata": {},
   "outputs": [],
   "source": [
    "dates, rates = zip(*curve1.nodes())"
   ]
  },
  {
   "cell_type": "code",
   "execution_count": 6,
   "metadata": {},
   "outputs": [
    {
     "data": {
      "text/plain": [
       "<zip at 0x1d01b111d00>"
      ]
     },
     "execution_count": 6,
     "metadata": {},
     "output_type": "execute_result"
    }
   ],
   "source": [
    "zip(dates, rates)"
   ]
  },
  {
   "cell_type": "code",
   "execution_count": 7,
   "metadata": {},
   "outputs": [],
   "source": [
    "curve2 = ForwardCurve(dates, rates, Actual360())"
   ]
  },
  {
   "cell_type": "markdown",
   "metadata": {},
   "source": [
    "Both curves are defined over the same range of dates…"
   ]
  },
  {
   "cell_type": "code",
   "execution_count": 8,
   "metadata": {},
   "outputs": [
    {
     "name": "stdout",
     "output_type": "stream",
     "text": [
      "October 3rd, 2014 to October 8th, 2029\n",
      "October 3rd, 2014 to October 8th, 2029\n"
     ]
    }
   ],
   "source": [
    "print (curve1.referenceDate(), 'to', curve1.maxDate())\n",
    "print (curve2.referenceDate(), 'to', curve2.maxDate())"
   ]
  },
  {
   "cell_type": "markdown",
   "metadata": {},
   "source": [
    "…and return the same rates, whether we ask for a given time (for instance, 5 years)…"
   ]
  },
  {
   "cell_type": "code",
   "execution_count": 9,
   "metadata": {},
   "outputs": [
    {
     "name": "stdout",
     "output_type": "stream",
     "text": [
      "0.452196 % Actual/360 continuous compounding\n",
      "0.452196 % Actual/360 continuous compounding\n"
     ]
    }
   ],
   "source": [
    "print (curve1.zeroRate(5.0, Continuous))\n",
    "print (curve2.zeroRate(5.0, Continuous))"
   ]
  },
  {
   "cell_type": "markdown",
   "metadata": {},
   "source": [
    "…or for a given date"
   ]
  },
  {
   "cell_type": "code",
   "execution_count": 10,
   "metadata": {},
   "outputs": [
    {
     "name": "stdout",
     "output_type": "stream",
     "text": [
      "0.452196 % Actual/360 continuous compounding\n",
      "0.452196 % Actual/360 continuous compounding\n"
     ]
    }
   ],
   "source": [
    "print (curve1.zeroRate(Date(7, September, 2019), Actual360(), Continuous))\n",
    "print (curve2.zeroRate(Date(7, September, 2019), Actual360(), Continuous))"
   ]
  },
  {
   "cell_type": "markdown",
   "metadata": {},
   "source": [
    "With the help of a couple more Python modules, we can also plot the whole curve by asking for\n",
    "rates over a set of times"
   ]
  },
  {
   "cell_type": "code",
   "execution_count": 11,
   "metadata": {},
   "outputs": [],
   "source": [
    "%%capture\n",
    "%pylab inline --no-import-all\n",
    "import matplotlib.pyplot as plot\n",
    "import pylab\n",
    "pylab.rcParams['figure.figsize'] = [12, 8]\n",
    "import numpy"
   ]
  },
  {
   "cell_type": "code",
   "execution_count": 12,
   "metadata": {},
   "outputs": [
    {
     "data": {
      "image/png": "[encoded data removed]",
      "text/plain": [
       "<Figure size 864x576 with 1 Axes>"
      ]
     },
     "metadata": {
      "needs_background": "light"
     },
     "output_type": "display_data"
    }
   ],
   "source": [
    "times = numpy.linspace(0.0, 15.0, 400)\n",
    "rates = [ curve1.zeroRate(t, Continuous).rate() for t in times ]\n",
    "plot.plot(times, rates)\n",
    "pass"
   ]
  },
  {
   "cell_type": "markdown",
   "metadata": {},
   "source": [
    "**Moving the evaluation date**"
   ]
  },
  {
   "cell_type": "markdown",
   "metadata": {},
   "source": [
    "To recap: we built the first curve specifying its reference date relative to the evaluation date, and the\n",
    "second curve specifying its reference date explciitly. Now, what happens if we change the evaluation\n",
    "date?"
   ]
  },
  {
   "cell_type": "code",
   "execution_count": 13,
   "metadata": {},
   "outputs": [],
   "source": [
    "Settings.instance().evaluationDate = Date(19, September, 2014)"
   ]
  },
  {
   "cell_type": "markdown",
   "metadata": {},
   "source": [
    "We can see how the range of definition has now changed for the first curve, but not for the second"
   ]
  },
  {
   "cell_type": "code",
   "execution_count": 14,
   "metadata": {},
   "outputs": [
    {
     "name": "stdout",
     "output_type": "stream",
     "text": [
      "September 19th, 2014 to September 24th, 2029\n",
      "October 3rd, 2014 to October 8th, 2029\n"
     ]
    }
   ],
   "source": [
    "print (curve1.referenceDate(), 'to', curve1.maxDate())\n",
    "print (curve2.referenceDate(), 'to', curve2.maxDate())"
   ]
  },
  {
   "cell_type": "code",
   "execution_count": 15,
   "metadata": {},
   "outputs": [
    {
     "name": "stdout",
     "output_type": "stream",
     "text": [
      "0.452196 % Actual/360 continuous compounding\n",
      "0.452196 % Actual/360 continuous compounding\n"
     ]
    }
   ],
   "source": [
    "print (curve1.zeroRate(5.0, Continuous))\n",
    "print (curve2.zeroRate(5.0, Continuous))"
   ]
  },
  {
   "cell_type": "code",
   "execution_count": 16,
   "metadata": {},
   "outputs": [
    {
     "name": "stdout",
     "output_type": "stream",
     "text": [
      "0.454618 % Actual/360 continuous compounding\n",
      "0.452196 % Actual/360 continuous compounding\n"
     ]
    }
   ],
   "source": [
    "print (curve1.zeroRate(Date(7, September, 2019), Actual360(), Continuous))\n",
    "print (curve2.zeroRate(Date(7, September, 2019), Actual360(), Continuous))"
   ]
  },
  {
   "cell_type": "markdown",
   "metadata": {},
   "source": [
    "# 6. EONIA curve bootstrapping"
   ]
  },
  {
   "cell_type": "code",
   "execution_count": 36,
   "metadata": {},
   "outputs": [],
   "source": [
    "%%capture\n",
    "%pylab inline --no-import-all\n",
    "import math\n",
    "import plot_utils as pu\n",
    "from QuantLib import *\n",
    "import matplotlib.pyplot as plt"
   ]
  },
  {
   "cell_type": "code",
   "execution_count": 20,
   "metadata": {},
   "outputs": [],
   "source": [
    "today = Date(11, December, 2012)\n",
    "Settings.instance().evaluationDate = today"
   ]
  },
  {
   "cell_type": "markdown",
   "metadata": {},
   "source": [
    "The first three instruments are three 1-day deposit that give us discounting between today and the\n",
    "day after spot. They are modeled by three instances of the DepositRateHelper class with a tenor\n",
    "of 1 day and a number of fixing days going from 0 (for the deposit starting today) to 2 (for the deposit\n",
    "starting on the spot date)."
   ]
  },
  {
   "cell_type": "code",
   "execution_count": 21,
   "metadata": {},
   "outputs": [],
   "source": [
    "helpers = [ DepositRateHelper(QuoteHandle(SimpleQuote(rate/100)),\n",
    "Period(1,Days), fixingDays,\n",
    "TARGET(), Following, False, Actual360())\n",
    "for rate, fixingDays in [(0.04, 0), (0.04, 1), (0.04, 2)] ]"
   ]
  },
  {
   "cell_type": "markdown",
   "metadata": {},
   "source": [
    "Then, we have a series of OIS quotes for the first month. They are modeled by instances of the\n",
    "OISRateHelper class with varying tenors. They also require an instance of the Eonia class, which\n",
    "doesn’t need a forecast curve and can be shared between the helpers"
   ]
  },
  {
   "cell_type": "code",
   "execution_count": 22,
   "metadata": {},
   "outputs": [],
   "source": [
    "eonia = Eonia()"
   ]
  },
  {
   "cell_type": "code",
   "execution_count": 23,
   "metadata": {},
   "outputs": [],
   "source": [
    "helpers += [ OISRateHelper(2, Period(*tenor),\n",
    "QuoteHandle(SimpleQuote(rate/100)), eonia)\n",
    "for rate, tenor in [(0.070, (1,Weeks)), (0.069, (2,Weeks)),\n",
    "(0.078, (3,Weeks)), (0.074, (1,Months))] ]"
   ]
  },
  {
   "cell_type": "markdown",
   "metadata": {},
   "source": [
    "Next, five OIS forwards on ECB dates. For these, we need to instantiate the DatedOISRateHelper\n",
    "class and specify start and end dates explicitly"
   ]
  },
  {
   "cell_type": "code",
   "execution_count": 24,
   "metadata": {},
   "outputs": [],
   "source": [
    "helpers += [ DatedOISRateHelper(start_date, end_date,\n",
    "QuoteHandle(SimpleQuote(rate/100)), eonia)\n",
    "for rate, start_date, end_date in [\n",
    "(0.046, Date(16,January,2013), Date(13,February,2013)),\n",
    "(0.016, Date(13,February,2013), Date(13,March,2013)),\n",
    "(-0.007, Date(13,March,2013), Date(10,April,2013)),\n",
    "(-0.013, Date(10,April,2013), Date(8,May,2013)),\n",
    "(-0.014, Date(8,May,2013), Date(12,June,2013))] ]"
   ]
  },
  {
   "cell_type": "markdown",
   "metadata": {},
   "source": [
    "Finally, we add OIS quotes up to 30 years."
   ]
  },
  {
   "cell_type": "code",
   "execution_count": 25,
   "metadata": {},
   "outputs": [],
   "source": [
    "helpers += [ OISRateHelper(2, Period(*tenor),\n",
    "QuoteHandle(SimpleQuote(rate/100)), eonia)\n",
    "for rate, tenor in [(0.002, (15,Months)), (0.008, (18,Months)),\n",
    "(0.021, (21,Months)), (0.036, (2,Years)),\n",
    "(0.127, (3,Years)), (0.274, (4,Years)),\n",
    "(0.456, (5,Years)), (0.647, (6,Years)),\n",
    "(0.827, (7,Years)), (0.996, (8,Years)),\n",
    "(1.147, (9,Years)), (1.280, (10,Years)),\n",
    "(1.404, (11,Years)), (1.516, (12,Years)),\n",
    "(1.764, (15,Years)), (1.939, (20,Years)),\n",
    "(2.003, (25,Years)), (2.038, (30,Years))] ]"
   ]
  },
  {
   "cell_type": "code",
   "execution_count": 26,
   "metadata": {},
   "outputs": [],
   "source": [
    "eonia_curve_c = PiecewiseLogCubicDiscount(0, TARGET(),\n",
    "helpers, Actual365Fixed())\n",
    "eonia_curve_c.enableExtrapolation()"
   ]
  },
  {
   "cell_type": "code",
   "execution_count": 27,
   "metadata": {},
   "outputs": [],
   "source": [
    "today = eonia_curve_c.referenceDate()\n",
    "end = today + Period(2,Years)\n",
    "dates = [ Date(serial) for serial in range(today.serialNumber(),\n",
    "end.serialNumber()+1) ]\n",
    "rates_c = [ eonia_curve_c.forwardRate(d, TARGET().advance(d,1,Days),\n",
    "Actual360(), Simple).rate()\n",
    "for d in dates ]"
   ]
  },
  {
   "cell_type": "code",
   "execution_count": null,
   "metadata": {},
   "outputs": [],
   "source": [
    "pu.plot_curve(plt, dates, [(rates_c,'-')])"
   ]
  },
  {
   "cell_type": "markdown",
   "metadata": {},
   "source": [
    "# 8. Constructing Yield Curve"
   ]
  },
  {
   "cell_type": "code",
   "execution_count": 42,
   "metadata": {},
   "outputs": [],
   "source": [
    "from QuantLib import *\n",
    "from pandas import DataFrame\n",
    "import numpy as np\n",
    "import matplotlib.pyplot as plt\n",
    "%matplotlib inline"
   ]
  },
  {
   "cell_type": "code",
   "execution_count": null,
   "metadata": {},
   "outputs": [],
   "source": [
    "depo_maturities = [Period(6,Months), Period(12, Months)]\n",
    "depo_rates = [5.25, 5.5]\n",
    "# Bond rates\n",
    "bond_maturities = [Period(6*i, Months) for i in range(3,21)]\n",
    "bond_rates = [5.75, 6.0, 6.25, 6.5, 6.75, 6.80, 7.00, 7.1, 7.15,\n",
    "7.2, 7.3, 7.35, 7.4, 7.5, 7.6, 7.6, 7.7, 7.8]\n",
    "maturities = depo_maturities+bond_maturities\n",
    "rates = depo_rates+bond_rates\n",
    "DataFrame(zip(maturities, rates) ,\n",
    "columns=[\"Maturities\",\"Curve\"],\n",
    "index=['']*len(rates))"
   ]
  },
  {
   "cell_type": "code",
   "execution_count": 47,
   "metadata": {},
   "outputs": [],
   "source": [
    "calc_date = Date(15, 1, 2015)\n",
    "Settings.instance().evaluationDate = calc_date\n",
    "calendar = UnitedStates()\n",
    "business_convention = Unadjusted\n",
    "day_count = Thirty360()\n",
    "end_of_month = True\n",
    "settlement_days = 0\n",
    "face_amount = 100\n",
    "coupon_frequency = Period(Semiannual)\n",
    "settlement_days = 0"
   ]
  },
  {
   "cell_type": "markdown",
   "metadata": {},
   "source": [
    "The basic idea of bootstrapping is to use the deposit rates and bond rates to create individual rate\n",
    "helpers. Then use the combination of the two helpers to construct the yield curve. As a first step, we\n",
    "create the deposit rate helpers as shown below.\n"
   ]
  },
  {
   "cell_type": "code",
   "execution_count": 48,
   "metadata": {},
   "outputs": [],
   "source": [
    "depo_helpers = [DepositRateHelper(QuoteHandle(SimpleQuote(r/100.0)),\n",
    "m,\n",
    "settlement_days,\n",
    "calendar,\n",
    "business_convention,\n",
    "end_of_month,\n",
    "day_count )\n",
    "for r, m in zip(depo_rates, depo_maturities)]"
   ]
  },
  {
   "cell_type": "markdown",
   "metadata": {},
   "source": [
    "The rest of the points are coupon bonds. We assume that the YTM given for the bonds are all par\n",
    "rates. So we have bonds with coupon rate same as the YTM. Using this information, we construct\n",
    "the fixed rate bond helpers below."
   ]
  },
  {
   "cell_type": "code",
   "execution_count": 50,
   "metadata": {},
   "outputs": [],
   "source": [
    "bond_helpers = []\n",
    "for r, m in zip(bond_rates, bond_maturities):\n",
    "    termination_date = calc_date + m\n",
    "    schedule = Schedule(calc_date,\n",
    "    termination_date,\n",
    "    coupon_frequency,\n",
    "    calendar,\n",
    "    business_convention,\n",
    "    business_convention,\n",
    "    DateGeneration.Backward,\n",
    "    end_of_month)\n",
    "    bond_helper = FixedRateBondHelper(QuoteHandle(SimpleQuote(face_amount)),\n",
    "    settlement_days,\n",
    "    face_amount,\n",
    "    schedule,\n",
    "    [r/100.0],\n",
    "    day_count,\n",
    "    business_convention,\n",
    "    )\n",
    "    bond_helpers.append(bond_helper)"
   ]
  },
  {
   "cell_type": "markdown",
   "metadata": {},
   "source": [
    "The union of the two helpers is what we use in bootstrapping"
   ]
  },
  {
   "cell_type": "code",
   "execution_count": 51,
   "metadata": {},
   "outputs": [],
   "source": [
    "rate_helpers = depo_helpers + bond_helpers"
   ]
  },
  {
   "cell_type": "markdown",
   "metadata": {},
   "source": [
    "The get_spot_rates is a convenient wrapper fucntion that we will use to get the spot rates on a\n",
    "monthly interval."
   ]
  },
  {
   "cell_type": "code",
   "execution_count": 52,
   "metadata": {},
   "outputs": [],
   "source": [
    "def get_spot_rates(\n",
    "    yieldcurve, day_count,\n",
    "    calendar=UnitedStates(), months=121):\n",
    "    spots = []\n",
    "    tenors = []\n",
    "    ref_date = yieldcurve.referenceDate()\n",
    "    calc_date = ref_date\n",
    "    for month in range(0, months):\n",
    "        yrs = month/12.0\n",
    "        d = calendar.advance(ref_date, Period(month, Months))\n",
    "        compounding = Compounded\n",
    "        freq = Semiannual\n",
    "        zero_rate = yieldcurve.zeroRate(yrs, compounding, freq)\n",
    "        tenors.append(yrs)\n",
    "        eq_rate = zero_rate.equivalentRate(\n",
    "        day_count,compounding,freq,calc_date,d).rate()\n",
    "        spots.append(100*eq_rate)\n",
    "    return DataFrame(zip(tenors, spots),\n",
    "    columns=[\"Maturities\",\"Curve\"],\n",
    "    index=['']*len(tenors))"
   ]
  },
  {
   "cell_type": "markdown",
   "metadata": {},
   "source": [
    "The bootstrapping process is fairly generic in QuantLib. You can chose what variable you are\n",
    "bootstrapping, and what is the interpolation method used in the bootstrapping. There are multiple\n",
    "piecewise interpolation methods that can be used for this process. The PiecewiseLogCubicDis\u0002count will construct a piece wise yield curve using LogCubic interpolation of the Discount factor.\n",
    "Similarly PiecewiseLinearZero will use Linear interpolation of Zero rates. PiecewiseCu\u0002bicZero will interpolate the Zero rates using a Cubic interpolation method.\n"
   ]
  },
  {
   "cell_type": "code",
   "execution_count": 53,
   "metadata": {},
   "outputs": [],
   "source": [
    "yc_logcubicdiscount = PiecewiseLogCubicDiscount(calc_date,\n",
    "rate_helpers,\n",
    "day_count)"
   ]
  },
  {
   "cell_type": "markdown",
   "metadata": {},
   "source": [
    "The zero rates from the tail end of the PiecewiseLogCubicDiscount bootstrapping is shown\n",
    "below."
   ]
  },
  {
   "cell_type": "code",
   "execution_count": 54,
   "metadata": {},
   "outputs": [
    {
     "data": {
      "text/html": [
       "<div>\n",
       "<style scoped>\n",
       "    .dataframe tbody tr th:only-of-type {\n",
       "        vertical-align: middle;\n",
       "    }\n",
       "\n",
       "    .dataframe tbody tr th {\n",
       "        vertical-align: top;\n",
       "    }\n",
       "\n",
       "    .dataframe thead th {\n",
       "        text-align: right;\n",
       "    }\n",
       "</style>\n",
       "<table border=\"1\" class=\"dataframe\">\n",
       "  <thead>\n",
       "    <tr style=\"text-align: right;\">\n",
       "      <th></th>\n",
       "      <th>Maturities</th>\n",
       "      <th>Curve</th>\n",
       "    </tr>\n",
       "  </thead>\n",
       "  <tbody>\n",
       "    <tr>\n",
       "      <th></th>\n",
       "      <td>9.666667</td>\n",
       "      <td>7.981384</td>\n",
       "    </tr>\n",
       "    <tr>\n",
       "      <th></th>\n",
       "      <td>9.750000</td>\n",
       "      <td>8.005292</td>\n",
       "    </tr>\n",
       "    <tr>\n",
       "      <th></th>\n",
       "      <td>9.833333</td>\n",
       "      <td>8.028145</td>\n",
       "    </tr>\n",
       "    <tr>\n",
       "      <th></th>\n",
       "      <td>9.916667</td>\n",
       "      <td>8.050187</td>\n",
       "    </tr>\n",
       "    <tr>\n",
       "      <th></th>\n",
       "      <td>10.000000</td>\n",
       "      <td>8.071649</td>\n",
       "    </tr>\n",
       "  </tbody>\n",
       "</table>\n",
       "</div>"
      ],
      "text/plain": [
       "  Maturities     Curve\n",
       "    9.666667  7.981384\n",
       "    9.750000  8.005292\n",
       "    9.833333  8.028145\n",
       "    9.916667  8.050187\n",
       "   10.000000  8.071649"
      ]
     },
     "execution_count": 54,
     "metadata": {},
     "output_type": "execute_result"
    }
   ],
   "source": [
    "splcd = get_spot_rates(yc_logcubicdiscount, day_count)\n",
    "splcd.tail()"
   ]
  },
  {
   "cell_type": "markdown",
   "metadata": {},
   "source": [
    "The yield curves using the PiecewiseLinearZero and PiecewiseCubicZero is shown below. The\n",
    "tail end of the zero rates obtained from PiecewiseLinearZero bootstrapping is also shown below.\n",
    "The numbers can be compared with that of the PiecewiseLogCubicDiscount shown above.\n"
   ]
  },
  {
   "cell_type": "code",
   "execution_count": 55,
   "metadata": {},
   "outputs": [
    {
     "data": {
      "text/html": [
       "<div>\n",
       "<style scoped>\n",
       "    .dataframe tbody tr th:only-of-type {\n",
       "        vertical-align: middle;\n",
       "    }\n",
       "\n",
       "    .dataframe tbody tr th {\n",
       "        vertical-align: top;\n",
       "    }\n",
       "\n",
       "    .dataframe thead th {\n",
       "        text-align: right;\n",
       "    }\n",
       "</style>\n",
       "<table border=\"1\" class=\"dataframe\">\n",
       "  <thead>\n",
       "    <tr style=\"text-align: right;\">\n",
       "      <th></th>\n",
       "      <th>Maturities</th>\n",
       "      <th>Curve</th>\n",
       "    </tr>\n",
       "  </thead>\n",
       "  <tbody>\n",
       "    <tr>\n",
       "      <th></th>\n",
       "      <td>9.666667</td>\n",
       "      <td>7.976804</td>\n",
       "    </tr>\n",
       "    <tr>\n",
       "      <th></th>\n",
       "      <td>9.750000</td>\n",
       "      <td>8.000511</td>\n",
       "    </tr>\n",
       "    <tr>\n",
       "      <th></th>\n",
       "      <td>9.833333</td>\n",
       "      <td>8.024221</td>\n",
       "    </tr>\n",
       "    <tr>\n",
       "      <th></th>\n",
       "      <td>9.916667</td>\n",
       "      <td>8.047934</td>\n",
       "    </tr>\n",
       "    <tr>\n",
       "      <th></th>\n",
       "      <td>10.000000</td>\n",
       "      <td>8.071649</td>\n",
       "    </tr>\n",
       "  </tbody>\n",
       "</table>\n",
       "</div>"
      ],
      "text/plain": [
       "  Maturities     Curve\n",
       "    9.666667  7.976804\n",
       "    9.750000  8.000511\n",
       "    9.833333  8.024221\n",
       "    9.916667  8.047934\n",
       "   10.000000  8.071649"
      ]
     },
     "execution_count": 55,
     "metadata": {},
     "output_type": "execute_result"
    }
   ],
   "source": [
    "yc_linearzero = PiecewiseLinearZero(\n",
    "calc_date,rate_helpers,day_count)\n",
    "yc_cubiczero = PiecewiseCubicZero(\n",
    "calc_date,rate_helpers,day_count)\n",
    "splz = get_spot_rates(yc_linearzero, day_count)\n",
    "spcz = get_spot_rates(yc_cubiczero, day_count)\n",
    "splz.tail()"
   ]
  },
  {
   "cell_type": "markdown",
   "metadata": {},
   "source": [
    "All three are plotted below to give you an overall perspective of the three methods.\n"
   ]
  },
  {
   "cell_type": "code",
   "execution_count": 56,
   "metadata": {},
   "outputs": [
    {
     "data": {
      "text/plain": [
       "<matplotlib.legend.Legend at 0x1d02afe3c10>"
      ]
     },
     "execution_count": 56,
     "metadata": {},
     "output_type": "execute_result"
    },
    {
     "data": {
      "image/png": "[encoded data removed]",
      "text/plain": [
       "<Figure size 432x288 with 1 Axes>"
      ]
     },
     "metadata": {
      "needs_background": "light"
     },
     "output_type": "display_data"
    }
   ],
   "source": [
    "plt.plot(splcd[\"Maturities\"],splcd[\"Curve\"], '.',\n",
    "label=\"LogCubicDiscount\")\n",
    "plt.plot(splz[\"Maturities\"],splz[\"Curve\"],'--',\n",
    "label=\"LinearZero\")\n",
    "plt.plot(spcz[\"Maturities\"],spcz[\"Curve\"],\n",
    "label=\"CubicZero\")\n",
    "plt.xlabel(\"Months\", size=12)\n",
    "plt.ylabel(\"Zero Rate\", size=12)\n",
    "plt.xlim(0.5,10)\n",
    "plt.ylim([5.25,8])\n",
    "plt.legend(loc=0)"
   ]
  },
  {
   "cell_type": "code",
   "execution_count": null,
   "metadata": {},
   "outputs": [],
   "source": []
  }
 ],
 "metadata": {
  "interpreter": {
   "hash": "e2069fa8660d98726444b1c3a8c46ff048e6d6948b652fe796c47d12eb80b502"
  },
  "kernelspec": {
   "display_name": "Python 3.10.2 64-bit",
   "language": "python",
   "name": "python3"
  },
  "language_info": {
   "codemirror_mode": {
    "name": "ipython",
    "version": 3
   },
   "file_extension": ".py",
   "mimetype": "text/x-python",
   "name": "python",
   "nbconvert_exporter": "python",
   "pygments_lexer": "ipython3",
   "version": "3.10.2"
  },
  "orig_nbformat": 4
 },
 "nbformat": 4,
 "nbformat_minor": 2
}
